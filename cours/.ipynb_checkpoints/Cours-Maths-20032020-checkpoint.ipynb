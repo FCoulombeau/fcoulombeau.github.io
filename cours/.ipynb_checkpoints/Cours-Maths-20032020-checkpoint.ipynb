{
 "cells": [
  {
   "cell_type": "markdown",
   "metadata": {},
   "source": [
    "# Séance de TD de maths du 20 mars 2020"
   ]
  },
  {
   "cell_type": "markdown",
   "metadata": {},
   "source": [
    "Résumé de ce que nous avons fait durant le TD"
   ]
  },
  {
   "cell_type": "markdown",
   "metadata": {},
   "source": [
    "## Exercice 15.20\n",
    "$\\phi:\\left\\{\\begin{array}{lcl}\n",
    "R_2[X]&\\rightarrow&R^2\\\\\n",
    "P&\\mapsto&(P(0);P(1))\n",
    "\\end{array}\\right.$"
   ]
  },
  {
   "cell_type": "markdown",
   "metadata": {},
   "source": [
    "Le calcul de $\\ker\\phi$ donne $\\ker\\phi =\\left\\{P\\in R_2[X],P=aX^2-aX, a\\in R\\right\\}$."
   ]
  },
  {
   "cell_type": "markdown",
   "metadata": {},
   "source": [
    "Je fais remarquer que $$\\ker\\phi=Vect\\left(X^2-X\\right)$$"
   ]
  },
  {
   "cell_type": "markdown",
   "metadata": {},
   "source": [
    "Suite à une question, je fais aussi remarquer que $$Vect(X-X^2)=Vect(X^2-X)=Vect(3X^2-3X)=...$$"
   ]
  },
  {
   "cell_type": "markdown",
   "metadata": {},
   "source": [
    "**Deuxième méthode** présentée pour le calcul de l'image :"
   ]
  },
  {
   "cell_type": "markdown",
   "metadata": {},
   "source": [
    "$rg\\phi=\\dim R_2[X]-\\dim\\ker\\phi=3-1=2$"
   ]
  },
  {
   "cell_type": "markdown",
   "metadata": {},
   "source": [
    "Donc $Im~\\phi$ est un sous-espace vectoriel de $R^2$, de même dimension que l'espace d'arrivée : $Im~\\phi=R^2$."
   ]
  },
  {
   "cell_type": "markdown",
   "metadata": {},
   "source": [
    "Donc $$Im~\\phi=R^2$$"
   ]
  },
  {
   "cell_type": "markdown",
   "metadata": {},
   "source": [
    "## Exercice 15.6\n",
    "Correction parfaite en photo sur Discord"
   ]
  },
  {
   "cell_type": "markdown",
   "metadata": {},
   "source": [
    "## Exercice 15.18\n",
    "Super. Se trouve aussi sur les exos corrigés de la feuille d'exos."
   ]
  },
  {
   "cell_type": "markdown",
   "metadata": {},
   "source": [
    "## Exercice 15.4\n",
    "Parfait aussi.\n",
    "\n",
    "Quelques précisions :\n",
    "- $\\dim R^4=4$\n",
    "- $\\dim F=3$\n",
    "- $\\dim G=2$\n",
    "- $3+2\\neq 4$ : donc $F$ et $G$ ne sont pas supplémentaires dans $R^4$."
   ]
  },
  {
   "cell_type": "markdown",
   "metadata": {},
   "source": [
    "Une petite précision : pour pouvoir affirmer que $F$ est de dimension 3 et $G$ de dimension 2, il aurait fallu montrer que les familles génératrices qu'on obtient auparavant, sont aussi libres."
   ]
  },
  {
   "cell_type": "markdown",
   "metadata": {},
   "source": [
    "## Exercice 15.17\n",
    "Une remarque pour commencer : le théorème 15.38 affirme que, pour $f$ linéaire de $E$ de dimension $n$ dans $F$ quelconque, si on donne l'image par $f$ de $n$ vecteurs de base de $E$, on a entièrement défini l'application linéaire $f$."
   ]
  },
  {
   "cell_type": "markdown",
   "metadata": {},
   "source": [
    "La correction de l'exercice est très bonne.\n",
    "J'ajoute quelques remarques :\n",
    "- Pour le 2)  \n",
    "  On obtient donc $\\ker f=\\{\\overrightarrow{0}\\}$\n",
    "- Pour la question 3), j'aurais rédigé plutôt comme suit :  \n",
    "  Au début :  \n",
    "  On cherche $\\lambda,\\mu\\in R$  pour lesquels il existe $x,y\\in R$ tels que...  \n",
    "  Pour la fin :  \n",
    "  Il manque la phrase de conclusion\n",
    "- Autre méthode :  \n",
    "  $rg f=\\dim E-\\dim\\ker f=2-0=2$  \n",
    "  Donc $Im~f$ est un sous-espace vectoriel de $E$ de même dimension que $E$ : c'est $E$."
   ]
  },
  {
   "cell_type": "markdown",
   "metadata": {},
   "source": [
    "## Exercice 15.16\n",
    "La corretion est parfaite.\n",
    "J'apporte une précision.\n",
    "\n",
    "$(E):(x-1)^3y'-2y=0$ : l'équation différentielle n'est pas sous forme normale - c'est-à-dire sous la forme $y'+a(x)y=b(x)$.\n",
    "\n",
    "On est obligé de se placer sur un intervalle évitant 1.\n",
    "\n",
    "Donc on résout $(E)$ sur $]-\\infty;1[$ ou sur $]1;+\\infty[$."
   ]
  },
  {
   "cell_type": "markdown",
   "metadata": {},
   "source": [
    "## Correction du 15.8\n",
    "$E=R_2[X]$ est de dimension 3.\n",
    "\n",
    "$\\mathcal{F}=\\left(1;X-\\alpha;(X-\\alpha)^2\\right)$.\n",
    "\n",
    "$\\mathcal{F}$ possède 3 vecteurs (comme $\\dim E$).\n",
    "\n",
    "Donc pour montrer que c'est une base, il suffit de montrer qu'elle est libre.\n",
    "Or, c'est une famille de polynômes échelonnée en degrés : donc elle est libre.\n",
    "\n",
    "Donc $\\mathcal{F}$ est une base de $E$."
   ]
  },
  {
   "cell_type": "markdown",
   "metadata": {},
   "source": [
    "## Correction de la première question du 15.16\n",
    "Par rapport à la correction présentée, j'apporte quelques modifications :\n",
    "- $\\exists(d;e;f)\\in R^3,Q=dX^2+eX+f$.\n",
    "- Parfait pour endomorphisme et calcul de $\\ker f$.\n",
    "- Le système s'écrit en fait :  \n",
    "  $$\\left\\{\\begin{array}{lcl}\n",
    "a&=&d/2\\\\b&=&e\\\\f&=&0\\end{array}\\right.$$  \n",
    "  Donc $Im~f={aX^2+bX}=Vect(X^2,X)$.\n",
    "- 2ème méthode :  \n",
    "  Théorème du rang : $$rg f=\\dim E-\\dim\\ker f$$  \n",
    "  Donc $rg~f=3-1=2$.  \n",
    "  Pour obtenir une base, il suffit de trouver deux vecteurs de $Im~f$ non colinéaires.\n",
    "  Or $f(X)=X$ et $f(X^2)=2X^2$.  \n",
    "  Ils ne sont pas colinéaires, donc $$Im~f=Vect(X;X^2)$$"
   ]
  },
  {
   "cell_type": "markdown",
   "metadata": {},
   "source": [
    "## Exercice 15.15\n",
    "Début de la correction. La fin de l'exercice est à faire pour le 23 mars.\n",
    "\n",
    "1) Formule de Grassmann $$\\dim(F+G)=\\dim F+\\dim G-\\dim(F\\cap G)$$\n",
    "2) On veut montrer que :\n",
    "\n",
    "   $\\dim(F+G)\\geq\\max(\\dim F;\\dim G)$\n",
    "   \n",
    "   $\\dim(F+G)\\leq\\min(\\dim E;\\dim F+\\dim G)$\n",
    "   \n",
    "   Pour la démonstration du a) :\n",
    "   \n",
    "   À l'aide de la formule de Grassmann, cela revient à montrer que $\\dim F+\\dim G\\geq\\max(\\dim F;\\dim G)+\\dim(F\\cap G)$.\n",
    "   \n",
    "   On remarque que $\\dim(F\\cap G)\\leq\\min(\\dim F;\\dim G)$.\n",
    "   \n",
    "   En effet, $F\\cap G\\subset F$ donc $\\dim(F\\cap G)\\leq\\dim F$.\n",
    "   \n",
    "   De même, $\\dim(F\\cap G)\\leq \\dim G$.\n",
    "   \n",
    "   On en déduit que $$\\max(\\dim F;\\dim G)+\\dim(F\\cap G)\\leq\\max(\\dim F;\\dim G)+\\min(\\dim F;\\dim G)$$  \n",
    "   \n",
    "   Or $\\max(a;b)+\\min(a;b)=a+b$ donc $\\dim F+\\dim G\\geq\\max(\\dim F;\\dim G)+\\dim(F\\cap G)$ ce qui achève cette première partie de la question 2)\n",
    "   \n",
    "   **Deuxième partie**\n",
    "   \n",
    "   Il s'agit de montrer que :  \n",
    "   \n",
    "   $\\dim(F+G)\\leq \\dim E$\n",
    "   \n",
    "   $\\dim(F+G)\\leq\\dim F+\\dim G$\n",
    "   \n",
    "   Pour le premier point :\n",
    "   \n",
    "   $F+G\\subset E$ donc $\\dim(F+G)\\leq n$  \n",
    "   \n",
    "   Pour le deuxième point :  \n",
    "   \n",
    "   On a $\\dim(F+G)=\\dim F+\\dim G-\\dim(F\\cap G)$ et $\\dim(F\\cap G)\\geq 0$.  \n",
    "   \n",
    "   Donc $\\dim(F+G)\\leq\\dim F+\\dim G$."
   ]
  }
 ],
 "metadata": {
  "kernelspec": {
   "display_name": "Python 3",
   "language": "python",
   "name": "python3"
  },
  "language_info": {
   "codemirror_mode": {
    "name": "ipython",
    "version": 3
   },
   "file_extension": ".py",
   "mimetype": "text/x-python",
   "name": "python",
   "nbconvert_exporter": "python",
   "pygments_lexer": "ipython3",
   "version": "3.7.4"
  }
 },
 "nbformat": 4,
 "nbformat_minor": 2
}
