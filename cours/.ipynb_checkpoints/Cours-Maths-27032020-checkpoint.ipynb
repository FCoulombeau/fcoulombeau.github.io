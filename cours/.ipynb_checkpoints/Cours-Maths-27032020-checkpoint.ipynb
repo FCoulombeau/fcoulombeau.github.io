{
 "cells": [
  {
   "cell_type": "markdown",
   "metadata": {},
   "source": [
    "# Séance de TD de maths du 27 mars 2020"
   ]
  },
  {
   "cell_type": "markdown",
   "metadata": {},
   "source": [
    "Résumé de ce que nous avons fait durant le TD"
   ]
  },
  {
   "cell_type": "markdown",
   "metadata": {},
   "source": [
    "## Exercice 17.4\n",
    "$sh$ est dérivable et $sh'=ch\\geqslant1>0$.\n",
    "\n",
    "Donc $sh$ est strictement croissante sur $R$, continue, et $\\displaystyle\\lim_{x\\to-\\infty}sh(x)=-\\infty$, $\\displaystyle\\lim_{x\\to+\\infty}sh(x)=+\\infty$.\n",
    "\n",
    "Donc $sh$ est une bijection de $R$ sur $R$."
   ]
  },
  {
   "cell_type": "markdown",
   "metadata": {},
   "source": [
    "$ch$ est dérivable et $ch'=sh\\geqslant0$ sur $[0;+\\infty[$. De plus $sh$ ne s'annule qu'en $0$.\n",
    "\n",
    "Donc $ch$ est strictement croissante sur $[0;+\\infty[$, continue, et $ch(0)=1$, $\\displaystyle\\lim_{x\\to+\\infty}sh(x)=+\\infty$.\n",
    "\n",
    "Donc $ch$ est une bijection de $[0;+\\infty[$ sur $[1;+\\infty[$."
   ]
  },
  {
   "cell_type": "markdown",
   "metadata": {},
   "source": [
    "b) et c) La correction de Mlle Barrougier est parfaite à deux points près :\n",
    "\n",
    "- $ch^2(argsh(x))=1+x^2$ donc $ch(argsh(x))=\\pm\\sqrt{1+x^2}$. Il faut rappeler que $\\ch>0$ pour conclure que  \n",
    "  $ch(argsh(x))=\\sqrt{1+x^2}$\n",
    "- $sh(argch(x))=+\\sqrt{x^2-1}$ car $sh\\geqslant0$ sur $[0;+\\infty[$ et $argch\\geqslant0$"
   ]
  },
  {
   "cell_type": "markdown",
   "metadata": {},
   "source": [
    "## Exercice 16.9\n",
    "Parfait. L'exercice est corrigé d'une autre manière sur [mon corrigé](https://fcoulombeau.github.io/cours/PCSI-ExoCor-27032020.pdf)."
   ]
  },
  {
   "cell_type": "markdown",
   "metadata": {},
   "source": [
    "## Exercice 16.10\n",
    "Aussi corrigé sur [mon corrigé](https://fcoulombeau.github.io/cours/PCSI-ExoCor-27032020.pdf)."
   ]
  },
  {
   "cell_type": "markdown",
   "metadata": {},
   "source": [
    "## Exercice 16.5\n",
    "Pour montrer que $U,V,W$ forment une partition de $E$, il faut montrer que :\n",
    "\n",
    "- $U\\cup V\\cup W=E$\n",
    "- $U\\cap V=\\emptyset$ et $U\\cap W=\\emptyset$ et $W\\cap V=\\emptyset$"
   ]
  },
  {
   "cell_type": "markdown",
   "metadata": {},
   "source": [
    "Pour montrer que $U\\cup V\\cup W=E$, il faut montrer que $U\\cup V\\cup W\\subset E$ et que $E\\subset U\\cup V\\cup W$."
   ]
  },
  {
   "cell_type": "markdown",
   "metadata": {},
   "source": [
    "Mlle Plaidy a fait correctement l'inclusion $(A\\backslash B)\\cup(A\\cap B)\\cup(B\\backslash A)\\subset A\\cup B$ et M.Longechamp a fait correctement (aux notations près) l'inclusion réciproque."
   ]
  },
  {
   "cell_type": "markdown",
   "metadata": {},
   "source": [
    "En revanche, il faut aussi montrer que $(A\\backslash B)\\cap(A\\cap B)=\\emptyset$, $(B\\backslash A)\\cap(A\\cap B)=\\emptyset$ et $(A\\backslash B)\\cap(B\\backslash A)=\\emptyset$."
   ]
  },
  {
   "cell_type": "markdown",
   "metadata": {},
   "source": [
    "Je fais le premier, les deux autres se démontrent de même :\n",
    "\n",
    "Soit $x\\in(A\\backslash B)\\cap(A\\cap B)$.\n",
    "\n",
    "Donc $x\\in A\\backslash B$ : $x\\in A$ mais $x\\notin B$.\n",
    "\n",
    "Et $x\\in A\\cap B$ : donc $x\\in A$ et $x\\in B$.\n",
    "\n",
    "Ce qui est absurde. Donc $(A\\backslash B)\\cap(A\\cap B)=\\emptyset$."
   ]
  },
  {
   "cell_type": "markdown",
   "metadata": {},
   "source": [
    "## Exercice 16.6\n",
    "\n",
    "La correction de M. Geffard est presque parfaite.\n",
    "\n",
    "Il ne manque que le calcul de $$S_n=\\sum_{k=1}^{n-1}n-k$$ et $$T_n=\\sum_{k=0}^{n}n-k$$"
   ]
  },
  {
   "cell_type": "markdown",
   "metadata": {},
   "source": [
    "$S_n=\\displaystyle\\sum_{k=1}^{n-1}n-k=\\displaystyle\\sum_{j=1}^{n-1}j$ en posant $j=n-k$\n",
    "\n",
    "Donc $S_n=\\displaystyle\\sum_{k=1}^{n-1}k=\\dfrac{(n-1)(n-1+1)}{2}=\\dfrac{n(n-1)}{2}$."
   ]
  },
  {
   "cell_type": "markdown",
   "metadata": {},
   "source": [
    "$T_n=\\displaystyle\\sum_{k=0}^{n}n-k=n+0+\\displaystyle\\sum_{k=1}^{n-1}n-k$ en sortant de la somme les termes d'indices $k=0$ et $k=n$.\n",
    "\n",
    "Donc $T_n=S_n+n=\\dfrac{n(n+1)}{2}$ après simplifications."
   ]
  },
  {
   "cell_type": "markdown",
   "metadata": {},
   "source": [
    "Pour la **_troisième question_**, on cherche  les couples $(i;j)$ tels que $1\\leqslant i\\leqslant n$, $1\\leqslant j\\leqslant n$ et $i=j^2$.\n",
    "\n",
    "Donc $1\\leqslant j^2\\leqslant n$. Tous ces nombres étant positifs et la fonction _racine carrée_ étant croissante on a donc\n",
    "$$1\\leqslant j\\leqslant\\sqrt{n}$$\n",
    "\n",
    "Or $j$ est entier, donc $1\\leqslant j\\leqslant\\lfloor \\sqrt{n}\\rfloor$. $j$ étant choisi dans cet interval, $i$ est fixé par $i=j^2$.\n",
    "\n",
    "Il y a donc $\\lfloor\\sqrt{n}\\rfloor$ couples satisfaisant ces conditions."
   ]
  },
  {
   "cell_type": "markdown",
   "metadata": {},
   "source": [
    "## Exercice 16.8\n",
    "\n",
    "La première question est bien traitée. Juste une précision : $\\mathcal{P}(E)$ désigne officiellement **_l'ensemble des parties de $E$_**. Il vaut mieux éviter d'utiliser cette notation pour autre chose.\n",
    "\n",
    "**_Deuxième question_**\n",
    "\n",
    "Deux remarques : \n",
    "\n",
    "- les rotations ne changent pas le plan de table.  \n",
    "  On peut donc considérer que l'un des élèves a une place fixée à l'avance.  \n",
    "  Il s'agit donc de construire tous les plans de table pour lesquels cet élève est à la place fixée.\n",
    "- les symétries axiales ne changent pas non plus les plans de table (puisque deux plans de table sont considérés identiques si chaque élève a les mêmes voisins)."
   ]
  }
 ],
 "metadata": {
  "kernelspec": {
   "display_name": "Python 3",
   "language": "python",
   "name": "python3"
  },
  "language_info": {
   "codemirror_mode": {
    "name": "ipython",
    "version": 3
   },
   "file_extension": ".py",
   "mimetype": "text/x-python",
   "name": "python",
   "nbconvert_exporter": "python",
   "pygments_lexer": "ipython3",
   "version": "3.7.4"
  }
 },
 "nbformat": 4,
 "nbformat_minor": 2
}
