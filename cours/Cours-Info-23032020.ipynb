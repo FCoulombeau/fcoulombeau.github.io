{
 "cells": [
  {
   "cell_type": "markdown",
   "metadata": {
    "slideshow": {
     "slide_type": "slide"
    }
   },
   "source": [
    "# Complexité"
   ]
  },
  {
   "cell_type": "markdown",
   "metadata": {
    "slideshow": {
     "slide_type": "fragment"
    }
   },
   "source": [
    "## I - Opérations élémentaires"
   ]
  },
  {
   "cell_type": "markdown",
   "metadata": {
    "slideshow": {
     "slide_type": "fragment"
    }
   },
   "source": [
    "### I.1 Opérations sur les types numériques"
   ]
  },
  {
   "cell_type": "markdown",
   "metadata": {
    "slideshow": {
     "slide_type": "fragment"
    }
   },
   "source": [
    "Nous considèrerons que **_toutes les opérations sur les types numériques_** qui ne sont pas **_des boucles ou des appels récursifs de fonctions_** sont des opérations élémentaires, **_c'est-à-dire s'effectuent en temps constant_** même si, **_en fait ce n'est pas le cas_**."
   ]
  },
  {
   "cell_type": "markdown",
   "metadata": {
    "slideshow": {
     "slide_type": "subslide"
    }
   },
   "source": [
    "Exemple :"
   ]
  },
  {
   "cell_type": "code",
   "execution_count": 1,
   "metadata": {
    "slideshow": {
     "slide_type": "fragment"
    }
   },
   "outputs": [
    {
     "name": "stdout",
     "output_type": "stream",
     "text": [
      "23\n",
      "4.9375 secondes pour effectuer ce calcul\n"
     ]
    }
   ],
   "source": [
    "import time as t\n",
    "\n",
    "T0 = t.process_time()\n",
    "a = 1234567**1234567\n",
    "print(a%100)\n",
    "print(t.process_time()-T0,\"secondes pour effectuer ce calcul\")"
   ]
  },
  {
   "cell_type": "markdown",
   "metadata": {
    "slideshow": {
     "slide_type": "fragment"
    }
   },
   "source": [
    "Comme on le voit sur cet exemple, l'**_opération de puissance sur des entiers_** n'est en fait pas une opération élémentaire en Python.\n",
    "\n",
    "Cependant, ceci n'est pas à retenir. **_S'il fallait, dans un énoncé, le prendre en compte, ce serait expressément précisé par l'énoncé_**."
   ]
  },
  {
   "cell_type": "markdown",
   "metadata": {
    "slideshow": {
     "slide_type": "slide"
    }
   },
   "source": [
    "#### Exercice 1\n",
    "\n",
    "On cherche à obtenir, comme dans l'exemple précédent, les deux derniers chiffres de l'écriture décimale de $a^a$.\n",
    "\n",
    "**_Dans cet exercice, on s'interdit l'opération de puissance_** : on veut la reprogrammer de la **_manière la plus efficace possible_**.\n",
    "\n",
    "Écrire une fonction `exo1(a,n=2)` qui calcule les $n$ derniers chiffres de $a^a$.\n",
    "\n",
    "Comparer le temps d'exécution de votre fonction avec celui du calcul fait plus haut (**_remarque : on peut faire mieux !_**)."
   ]
  },
  {
   "cell_type": "code",
   "execution_count": 2,
   "metadata": {
    "slideshow": {
     "slide_type": "subslide"
    }
   },
   "outputs": [
    {
     "name": "stdout",
     "output_type": "stream",
     "text": [
      "0.0\n",
      "0.0\n"
     ]
    }
   ],
   "source": [
    "def exo1(a,n):\n",
    "    r = 1\n",
    "    p = a\n",
    "    md = 10**n\n",
    "    while a>0:\n",
    "        if a%2 == 1 :\n",
    "            r = (r*p)% md\n",
    "        a = a//2\n",
    "        p = (p*p) % md\n",
    "    return r\n",
    "\n",
    "\n",
    "T0 = t.process_time()\n",
    "exo1(1234567,2)\n",
    "print(t.process_time()-T0)\n",
    "\n",
    "T0 = t.process_time()\n",
    "exo1(123456789,2)\n",
    "print(t.process_time()-T0)"
   ]
  },
  {
   "cell_type": "markdown",
   "metadata": {
    "slideshow": {
     "slide_type": "slide"
    }
   },
   "source": [
    "### I.2 Opérations sur les listes"
   ]
  },
  {
   "cell_type": "markdown",
   "metadata": {
    "slideshow": {
     "slide_type": "fragment"
    }
   },
   "source": [
    "Pour les listes, les choses sont un peu plus compliquées.\n",
    "\n",
    "Avant d'entrer dans le détail, voici un exemple."
   ]
  },
  {
   "cell_type": "code",
   "execution_count": 2,
   "metadata": {
    "slideshow": {
     "slide_type": "subslide"
    }
   },
   "outputs": [
    {
     "name": "stdout",
     "output_type": "stream",
     "text": [
      "0.015625 secondes pour remplir la 1ère liste\n",
      "13.890625 secondes pour remplir la 2ème liste\n"
     ]
    }
   ],
   "source": [
    "T0 = t.process_time()\n",
    "L = []\n",
    "for a in range(100000):\n",
    "    L.append(0)\n",
    "print(t.process_time()-T0,\"secondes pour remplir la 1ère liste\")\n",
    "\n",
    "T0 = t.process_time()\n",
    "L = []\n",
    "for a in range(100000):\n",
    "    L = L+[0]\n",
    "print(t.process_time()-T0,\"secondes pour remplir la 2ème liste\")"
   ]
  },
  {
   "cell_type": "markdown",
   "metadata": {
    "slideshow": {
     "slide_type": "subslide"
    }
   },
   "source": [
    "Comme on le voit ici, `L.append(element)` et `L = L+[element]`\n",
    "- **_ont le même effet_** \n",
    "- **_mais ne sont pas implémentée de la même manière en Python_**\n",
    "\n",
    "Ceci a pour conséquence que leur complexité **_n'est pas la même_**.\n",
    "\n",
    "Dans le détail, le choses sont **_compliquées_** et **_hors-programme_**.\n",
    "\n",
    "Nous allons quand même regarder dans le détail la complexité des opérations sur les listes : rendez-vous à cette adresse\n",
    "[https://wiki.python.org/moin/TimeComplexity](https://wiki.python.org/moin/TimeComplexity)."
   ]
  },
  {
   "cell_type": "markdown",
   "metadata": {
    "slideshow": {
     "slide_type": "subslide"
    }
   },
   "source": [
    "En résumé : les opérations suivantes ont un coût constant $\\mathcal{O}(1)$ pour les listes\n",
    "- `L.append(element)`\n",
    "- `L.pop()`\n",
    "- `L[indice]`\n",
    "- `L[indice] = valeur`\n",
    "- `len(L)`\n",
    "\n",
    "Les opérations suivantes ont un coût linéaire en fonction du nombre d'éléments dans la liste $\\mathcal{O}(n)$ :\n",
    "- `L.copy()`\n",
    "- `L.insert(indice, element)`\n",
    "- `element in L`\n",
    "- `L.pop(indice)` lorsque `indice` ne vaut pas -1\n",
    "- `min(L)`, `max(L)`, `sum(L)`...\n",
    "\n",
    "Quatre cas particuliers :\n",
    "- `L1 + L2` a une complexité en $\\mathcal{O}(len(L1)+len(L2))$\n",
    "- `L[a:b]` a une complexité en $\\mathcal{O}(b-a)$\n",
    "- `L[a:b]=[liste à b-a éléments]` a une complexité en $\\mathcal{O}(b-a+n)$ où $n$ est le nombre d'éléments de `L`\n",
    "- `L.sort()` a une complexité en $\\mathcal{O}(n\\log(n))$."
   ]
  },
  {
   "cell_type": "markdown",
   "metadata": {
    "slideshow": {
     "slide_type": "slide"
    }
   },
   "source": [
    "### I.3 Ce qu'il faut retenir\n",
    "\n",
    "Même si c'est en pratique faux - et sauf cas particulier **_spécifié par l'énoncé_** - **_toutes les opérations sur des types numériques sont considérées à coût constant_** (c'est-à-dire en $\\mathcal{O(1)}$).\n",
    "\n",
    "Pour les listes, les opérations suivantes sont considérées à coût constant :\n",
    "- `L.append(element)`\n",
    "- `L.pop()`\n",
    "- `L[indice]`\n",
    "- `L[indice] = valeur`\n",
    "- `len(L)`\n",
    "\n",
    "**_Pour cette raison, on essayera de tout faire à l'aide de ces seules opérations dans les sujets de concours_**."
   ]
  },
  {
   "cell_type": "markdown",
   "metadata": {
    "slideshow": {
     "slide_type": "slide"
    }
   },
   "source": [
    "## II - Boucles et appels récursifs"
   ]
  },
  {
   "cell_type": "markdown",
   "metadata": {
    "slideshow": {
     "slide_type": "fragment"
    }
   },
   "source": [
    "### II.1 Boucles"
   ]
  },
  {
   "cell_type": "markdown",
   "metadata": {
    "slideshow": {
     "slide_type": "fragment"
    }
   },
   "source": [
    "Le principe est le suivant :\n",
    "- on évalue le coût des opérations dans un pas de boucle;\n",
    "- on multiplie par le nombre de pas de boucles.\n",
    "\n",
    "**_Mais cela peut être un peu plus compliqué_**. Le coût de certaines opérations **_à l'intérieur d'un pas de boucle_** peut dépendre **_du nombre de pas de boucles effectués_**.\n",
    "\n",
    "Autrement dit, il peut arriver qu'on rencontre le cas suivant :\n",
    "- le coût d'un par de boucle est une fonction $f(i)$ où $i$ est l'indice du pas de boucle;\n",
    "- $i$ varie de $1$ jusqu'à $n$.\n",
    "\n",
    "Dans ce cas, le coût total de la boucle est évalué en calculant $\\displaystyle\\sum_{i=1}^nf(i)$."
   ]
  },
  {
   "cell_type": "markdown",
   "metadata": {
    "slideshow": {
     "slide_type": "subslide"
    }
   },
   "source": [
    "#### Exercice 2\n",
    "On appelle \"matrice creuse\" une matrice contenant _beaucoup_ de valeurs nulles.\n",
    "\n",
    "Plus précisément, on considère deux entiers $n\\in N$ et $p\\in[[0;n^2]]$, une matrice $A\\in\\mathcal{M}_n(K)$ **_contenant $p$ valeurs non nulles, les $n^2-p$ autres valeurs étant nulles_**.\n",
    "\n",
    "On représente cette matrice de deux façons différentes :\n",
    "- à l'aide d'un tableau `numpy` $T$ à deux dimensions tel que $T[i,j]$ contient l'élément $A_{i+1,j+1}$ de la matrice;\n",
    "- à l'aide d'une liste $L$ à une dimension ne contenant que les tripelts $(i,j,a)$ pour lesquels $a=A_{i,j}$ est non nul. La liste $L$ contient donc exactement $p$ triplets.\n",
    "\n",
    "1- Écrire une fonction `somme1(T)` qui effectue la somme des éléments de la matrice en utilisant la première représentation.  \n",
    "   Évaluer sa complexité.  \n",
    "2- Écrire une fonction `somme2(L)` qui effectue la somme des éléments de la matrice en utilisant la deuxième représentation.  \n",
    "   Évaluer sa complexité.  \n",
    "3- Trouver la valeur limite de $p$ à partir de laquelle l'une des représentations devient préférable par rapport à la seconde."
   ]
  },
  {
   "cell_type": "code",
   "execution_count": 3,
   "metadata": {
    "slideshow": {
     "slide_type": "subslide"
    }
   },
   "outputs": [],
   "source": [
    "def somme1(T):\n",
    "    n = T.shape[0]\n",
    "    S = 0\n",
    "    for i in range(n):\n",
    "        for j in range(n):\n",
    "            S += T[i,j]\n",
    "    return S"
   ]
  },
  {
   "cell_type": "code",
   "execution_count": 4,
   "metadata": {
    "slideshow": {
     "slide_type": "subslide"
    }
   },
   "outputs": [],
   "source": [
    "def somme2(L):\n",
    "    n = len(L)\n",
    "    S = 0\n",
    "    for i in range(n):\n",
    "        S += L[i][2]\n",
    "    return S"
   ]
  },
  {
   "cell_type": "markdown",
   "metadata": {
    "slideshow": {
     "slide_type": "subslide"
    }
   },
   "source": [
    "La complexité de `somme1(T)` est en $\\mathcal{O}(n^2)$ (boucles imbriquées).\n",
    "\n",
    "La complexité de `somme2(L)` est en $\\mathcal{O}(p)$.\n",
    "\n",
    "Comme de plus $p\\leq n^2$, la version 2 est toujours préférable à la version 1."
   ]
  },
  {
   "cell_type": "markdown",
   "metadata": {
    "slideshow": {
     "slide_type": "slide"
    }
   },
   "source": [
    "### II.2 Récursivité"
   ]
  },
  {
   "cell_type": "markdown",
   "metadata": {
    "slideshow": {
     "slide_type": "fragment"
    }
   },
   "source": [
    "On rappelle que le principe d'une fonction récursive est celui de la récurrence en mathématique :\n",
    "- on initialise pour certaines valeurs du paramètre d'entrée;\n",
    "- pour le calcul de $f(b)$ on se ramène au calcul d'une (ou de plusieurs) valeur $f(b_1)$ pour $b_1<b$ (où $<$ est un bon ordre)."
   ]
  },
  {
   "cell_type": "markdown",
   "metadata": {
    "slideshow": {
     "slide_type": "fragment"
    }
   },
   "source": [
    "Pour évaluer la complexité d'une fonction récursive, \n",
    "- on évalue le coût des opérations dans la fonction **_hors appels récursifs_** - ce coût $C(b)$ dépend souvent du paramètre d'entrée $b$;\n",
    "- **_on évalue le nombre $N_b$ d'appels récursifs effectués depuis la valeur initiale du paramètre jusqu'à la (ou l'une des) valeur pour laquelle l'initialisation est faite_**.\n",
    "\n",
    "La complexité est alors évaluée en calculant $\\displaystyle\\sum_{i=1}^{N_b}C(b_i)$.\n",
    "\n",
    "Très souvent, on obtient en fait une formyle de récurrence donnant $C(b)$ en fonction de $C(b_1)$."
   ]
  },
  {
   "cell_type": "markdown",
   "metadata": {
    "slideshow": {
     "slide_type": "subslide"
    }
   },
   "source": [
    "#### Exercice 3\n",
    "Nous avons vu en TD sur la récursivité un algorithme permettant de savoir si l'on peut payer exactement une somme $S$ à l'aide de valeurs numéraires (pièces ou billets) contenus dans une liste $L$.\n",
    "\n",
    "Voici un algorithme possible."
   ]
  },
  {
   "cell_type": "code",
   "execution_count": 3,
   "metadata": {
    "slideshow": {
     "slide_type": "fragment"
    }
   },
   "outputs": [],
   "source": [
    "def AppointPossible(L,S):\n",
    "    if S==0:\n",
    "        return True\n",
    "    if L==[] or S<0:\n",
    "        return False\n",
    "    app1=AppointPossible(L[1:],S-L[0])\n",
    "    if app1:\n",
    "        return True\n",
    "    else:\n",
    "        return AppointPossible(L[1:],S)"
   ]
  },
  {
   "cell_type": "markdown",
   "metadata": {
    "slideshow": {
     "slide_type": "subslide"
    }
   },
   "source": [
    "Quelle est la complexité de cet algorithme en fonction du nombre $n$ d'éléments dans la liste $L$ ?"
   ]
  },
  {
   "cell_type": "markdown",
   "metadata": {
    "slideshow": {
     "slide_type": "fragment"
    }
   },
   "source": [
    "Soit $C_n$ la complexité dans le pire des cas d'une liste de longueur $n$.\n",
    "\n",
    "On a $C_0=3$ (disons, en tout cas en temps constant) et $C_{n+1}=2C_n+D$ où $D$ est le nombre (constant) d'opérations élémentaires faites en dehors des deux appels récursifs.\n",
    "\n",
    "Il s'agit d'une suite arithmético-géométrique donc, par théorème du cours, $C_n=\\lambda 2^n+\\mu=\\mathcal{O}\\left(2^n\\right)$."
   ]
  }
 ],
 "metadata": {
  "celltoolbar": "Diaporama",
  "kernelspec": {
   "display_name": "Python 3",
   "language": "python",
   "name": "python3"
  },
  "language_info": {
   "codemirror_mode": {
    "name": "ipython",
    "version": 3
   },
   "file_extension": ".py",
   "mimetype": "text/x-python",
   "name": "python",
   "nbconvert_exporter": "python",
   "pygments_lexer": "ipython3",
   "version": "3.7.4"
  }
 },
 "nbformat": 4,
 "nbformat_minor": 2
}
